{
  "nbformat": 4,
  "nbformat_minor": 0,
  "metadata": {
    "colab": {
      "provenance": [],
      "authorship_tag": "ABX9TyOA9mBjDAK0jBB3KIrPdeki",
      "include_colab_link": true
    },
    "kernelspec": {
      "name": "python3",
      "display_name": "Python 3"
    },
    "language_info": {
      "name": "python"
    }
  },
  "cells": [
    {
      "cell_type": "markdown",
      "metadata": {
        "id": "view-in-github",
        "colab_type": "text"
      },
      "source": [
        "<a href=\"https://colab.research.google.com/github/maulanasport11/PBO_Tugas2/blob/main/PBO_class1.ipynb\" target=\"_parent\"><img src=\"https://colab.research.google.com/assets/colab-badge.svg\" alt=\"Open In Colab\"/></a>"
      ]
    },
    {
      "cell_type": "code",
      "execution_count": null,
      "metadata": {
        "id": "U4shvLF9DYzl"
      },
      "outputs": [],
      "source": [
        "class Mahasiswa:\n",
        "    def __init__(self, nama, nim):\n",
        "        self.nama = nama\n",
        "        self.nim = nim\n",
        "\n",
        "    def tampilkan_info(self):\n",
        "        return f\"Nama: {self.nama}, NIM: {self.nim}\"\n",
        "\n",
        "# Membuat objek\n",
        "mhs1 = Mahasiswa(\"Budi\", \"220101\")\n",
        "print(mhs1.tampilkan_info())"
      ]
    }
  ]
}