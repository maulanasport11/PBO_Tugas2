{
  "nbformat": 4,
  "nbformat_minor": 0,
  "metadata": {
    "colab": {
      "provenance": [],
      "authorship_tag": "ABX9TyMfYohdaNoMApdEf6JL+sEy",
      "include_colab_link": true
    },
    "kernelspec": {
      "name": "python3",
      "display_name": "Python 3"
    },
    "language_info": {
      "name": "python"
    }
  },
  "cells": [
    {
      "cell_type": "markdown",
      "metadata": {
        "id": "view-in-github",
        "colab_type": "text"
      },
      "source": [
        "<a href=\"https://colab.research.google.com/github/maulanasport11/PBO_Tugas2/blob/main/PBO_class2.ipynb\" target=\"_parent\"><img src=\"https://colab.research.google.com/assets/colab-badge.svg\" alt=\"Open In Colab\"/></a>"
      ]
    },
    {
      "cell_type": "code",
      "execution_count": null,
      "metadata": {
        "id": "aJaTLxbhDwPj"
      },
      "outputs": [],
      "source": [
        "class PersegiPanjang:\n",
        "    def __init__(self, panjang, lebar):\n",
        "        self.panjang = panjang\n",
        "        self.lebar = lebar\n",
        "\n",
        "    def luas(self):\n",
        "        return self.panjang * self.lebar\n",
        "\n",
        "    def keliling(self):\n",
        "        return 2 * (self.panjang + self.lebar)\n",
        "\n",
        "# Membuat objek\n",
        "pp = PersegiPanjang(10, 5)\n",
        "print(f\"Luas: {pp.luas()}\")\n",
        "print(f\"Keliling: {pp.keliling()}\")"
      ]
    }
  ]
}