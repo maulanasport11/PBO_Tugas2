{
  "nbformat": 4,
  "nbformat_minor": 0,
  "metadata": {
    "colab": {
      "provenance": [],
      "authorship_tag": "ABX9TyMTYaCQDKAiPzVUOvUqPSVC",
      "include_colab_link": true
    },
    "kernelspec": {
      "name": "python3",
      "display_name": "Python 3"
    },
    "language_info": {
      "name": "python"
    }
  },
  "cells": [
    {
      "cell_type": "markdown",
      "metadata": {
        "id": "view-in-github",
        "colab_type": "text"
      },
      "source": [
        "<a href=\"https://colab.research.google.com/github/maulanasport11/PBO_Tugas2/blob/main/PBO_class3.ipynb\" target=\"_parent\"><img src=\"https://colab.research.google.com/assets/colab-badge.svg\" alt=\"Open In Colab\"/></a>"
      ]
    },
    {
      "cell_type": "code",
      "execution_count": null,
      "metadata": {
        "id": "z2ho4orfD93j"
      },
      "outputs": [],
      "source": [
        "class AkunBank:\n",
        "    def __init__(self, saldo):\n",
        "        self.__saldo = saldo  # Private attribute\n",
        "\n",
        "    def lihat_saldo(self):\n",
        "        return f\"Saldo Anda: {self.__saldo}\"\n",
        "\n",
        "    def setor(self, jumlah):\n",
        "        self.__saldo += jumlah\n",
        "        return f\"Berhasil setor! Saldo sekarang: {self.__saldo}\"\n",
        "\n",
        "# Membuat objek\n",
        "akun1 = AkunBank(500000)\n",
        "print(akun1.lihat_saldo())\n",
        "print(akun1.setor(100000))"
      ]
    }
  ]
}