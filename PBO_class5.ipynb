{
  "nbformat": 4,
  "nbformat_minor": 0,
  "metadata": {
    "colab": {
      "provenance": [],
      "authorship_tag": "ABX9TyPV7gntoyayTWwG+KM91PEM",
      "include_colab_link": true
    },
    "kernelspec": {
      "name": "python3",
      "display_name": "Python 3"
    },
    "language_info": {
      "name": "python"
    }
  },
  "cells": [
    {
      "cell_type": "markdown",
      "metadata": {
        "id": "view-in-github",
        "colab_type": "text"
      },
      "source": [
        "<a href=\"https://colab.research.google.com/github/maulanasport11/PBO_Tugas2/blob/main/PBO_class5.ipynb\" target=\"_parent\"><img src=\"https://colab.research.google.com/assets/colab-badge.svg\" alt=\"Open In Colab\"/></a>"
      ]
    },
    {
      "cell_type": "code",
      "execution_count": null,
      "metadata": {
        "id": "aZ_yq3pSEeJ3"
      },
      "outputs": [],
      "source": [
        "class Karyawan:\n",
        "    jumlah_karyawan = 0\n",
        "\n",
        "    def __init__(self, nama):\n",
        "        self.nama = nama\n",
        "        Karyawan.jumlah_karyawan += 1\n",
        "\n",
        "    @classmethod\n",
        "    def total_karyawan(cls):\n",
        "        return f\"Total karyawan: {cls.jumlah_karyawan}\"\n",
        "\n",
        "# Membuat objek\n",
        "k1 = Karyawan(\"Andi\")\n",
        "k2 = Karyawan(\"Siti\")\n",
        "\n",
        "print(Karyawan.total_karyawan())"
      ]
    }
  ]
}