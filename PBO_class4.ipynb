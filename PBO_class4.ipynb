{
  "nbformat": 4,
  "nbformat_minor": 0,
  "metadata": {
    "colab": {
      "provenance": [],
      "authorship_tag": "ABX9TyNqewaTuvqMJeJLmd2Azuzw",
      "include_colab_link": true
    },
    "kernelspec": {
      "name": "python3",
      "display_name": "Python 3"
    },
    "language_info": {
      "name": "python"
    }
  },
  "cells": [
    {
      "cell_type": "markdown",
      "metadata": {
        "id": "view-in-github",
        "colab_type": "text"
      },
      "source": [
        "<a href=\"https://colab.research.google.com/github/maulanasport11/PBO_Tugas2/blob/main/PBO_class4.ipynb\" target=\"_parent\"><img src=\"https://colab.research.google.com/assets/colab-badge.svg\" alt=\"Open In Colab\"/></a>"
      ]
    },
    {
      "cell_type": "code",
      "execution_count": null,
      "metadata": {
        "id": "3RAbmx-fE2lU"
      },
      "outputs": [],
      "source": [
        "class Kendaraan:\n",
        "    def __init__(self, merk, tahun):\n",
        "        self.merk = merk\n",
        "        self.tahun = tahun\n",
        "\n",
        "    def info(self):\n",
        "        return f\"{self.merk}, Tahun {self.tahun}\"\n",
        "\n",
        "class Motor(Kendaraan):\n",
        "    def __init__(self, merk, tahun, jenis):\n",
        "        super().__init__(merk, tahun)\n",
        "        self.jenis = jenis\n",
        "\n",
        "    def info(self):\n",
        "        return f\"{self.merk} {self.jenis}, Tahun {self.tahun}\"\n",
        "\n",
        "# Membuat objek\n",
        "motor1 = Motor(\"Honda\", 2022, \"Sport\")\n",
        "print(motor1.info())"
      ]
    }
  ]
}